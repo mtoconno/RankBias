{
 "cells": [
  {
   "cell_type": "markdown",
   "metadata": {},
   "source": [
    "RankBias"
   ]
  },
  {
   "cell_type": "code",
   "execution_count": 84,
   "metadata": {
    "collapsed": true
   },
   "outputs": [],
   "source": [
    "import gmaps\n",
    "import gmaps.datasets\n",
    "import urllib\n",
    "import re\n",
    "from geopy import geocoders"
   ]
  },
  {
   "cell_type": "code",
   "execution_count": 85,
   "metadata": {
    "scrolled": true
   },
   "outputs": [
    {
     "data": {
      "text/plain": [
       "'\\nsite = urllib.request.Request(\"https://n.rivals.com/prospect_rankings/rivals100/2018\", headers = headers )\\ndata = urllib.request.urlopen(site).read().decode()\\n\\n#data = \\'\"stars\":5, \"hometown\":\"Simi Valley, CA\", \"stars\":5, \"hometown\":\"San Francisco, CA\"\\'\\n\\nrecruits = re.findall(\\'\"stars\":[0-9]\\', data)\\nlocation = re.findall(\\'hometown\":\"[^\"]+\"\\', data)\\n\\nhometown = []\\nstars = []\\n\\nfor s in recruits:\\n    s.strip(\"\"\\'\")\\n    s = s.split(\":\")\\n    stars.append(s[1])\\n\\nfor l in location:\\n    l.strip(\"\"\\'\") #remove extra quotation marks\\n    l = l.split(\":\")\\n    latlong = g.geocode(l[1])\\n    latlongtuple = (latlong.latitude, latlong.longitude)\\n    hometown.append(latlongtuple)\\n'"
      ]
     },
     "execution_count": 85,
     "metadata": {},
     "output_type": "execute_result"
    }
   ],
   "source": [
    "g = geocoders.GoogleV3(api_key=\"AI")\n",
    "gmaps.configure(api_key=\"AI")\n",
    "headers = {}\n",
    "headers['User-Agent'] = \"Mozilla/5.0 (Windows NT 10.0; Win64; x64) AppleWebKit/537.36 (KHTML, like Gecko) Chrome/63.0.3239.132 Safari/537.36\"\n",
    "\n",
    "\"\"\"\n",
    "site = urllib.request.Request(\"https://n.rivals.com/prospect_rankings/rivals100/2018\", headers = headers )\n",
    "data = urllib.request.urlopen(site).read().decode()\n",
    "\n",
    "#data = '\"stars\":5, \"hometown\":\"Simi Valley, CA\", \"stars\":5, \"hometown\":\"San Francisco, CA\"'\n",
    "\n",
    "recruits = re.findall('\\\"stars\\\":[0-9]', data)\n",
    "location = re.findall('hometown\\\":\\\"[^\\\"]+\\\"', data)\n",
    "\n",
    "hometown = []\n",
    "stars = []\n",
    "\n",
    "for s in recruits:\n",
    "    s.strip(\"\\\"\\'\")\n",
    "    s = s.split(\":\")\n",
    "    stars.append(s[1])\n",
    "\n",
    "for l in location:\n",
    "    l.strip(\"\\\"\\'\") #remove extra quotation marks\n",
    "    l = l.split(\":\")\n",
    "    latlong = g.geocode(l[1])\n",
    "    latlongtuple = (latlong.latitude, latlong.longitude)\n",
    "    hometown.append(latlongtuple)\n",
    "\"\"\""
   ]
  },
  {
   "cell_type": "code",
   "execution_count": 86,
   "metadata": {
    "scrolled": true
   },
   "outputs": [
    {
     "name": "stdout",
     "output_type": "stream",
     "text": [
      "100\n",
      "33\n"
     ]
    }
   ],
   "source": [
    "f1 = open(\"recruitlocations.txt\", mode=\"r\")\n",
    "f2 = open(\"ranking.txt\", mode=\"r\")\n",
    "hometown = []\n",
    "stars = []\n",
    "\n",
    "star = f2.readlines()\n",
    "for s in star:\n",
    "    stars.append(int(s))\n",
    "\n",
    "i = 0\n",
    "for line in f1:\n",
    "    if stars[i] == 5:\n",
    "        line = line.strip(\"\\n\")\n",
    "        home = line.split(\",\")\n",
    "        homeTuple = (float(home[0]), float(home[1]))\n",
    "        hometown.append(homeTuple)\n",
    "    else:\n",
    "        i = i\n",
    "    i = i + 1\n",
    "    \n",
    "\n",
    "\n",
    "\n",
    "    \n",
    "print(len(stars))\n",
    "print(len(hometown))"
   ]
  },
  {
   "cell_type": "code",
   "execution_count": 87,
   "metadata": {},
   "outputs": [
    {
     "data": {
      "application/vnd.jupyter.widget-view+json": {
       "model_id": "237e1d3ec1134cb8b57dcad1fadae675",
       "version_major": 2,
       "version_minor": 0
      },
      "text/plain": [
       "A Jupyter Widget"
      ]
     },
     "metadata": {},
     "output_type": "display_data"
    }
   ],
   "source": [
    "map = gmaps.figure()\n",
    "map.add_layer( gmaps.heatmap_layer( hometown ) )\n",
    "map"
   ]
  },
  {
   "cell_type": "code",
   "execution_count": null,
   "metadata": {
    "collapsed": true
   },
   "outputs": [],
   "source": []
  }
 ],
 "metadata": {
  "kernelspec": {
   "display_name": "Python 3",
   "language": "python",
   "name": "python3"
  },
  "language_info": {
   "codemirror_mode": {
    "name": "ipython",
    "version": 3
   },
   "file_extension": ".py",
   "mimetype": "text/x-python",
   "name": "python",
   "nbconvert_exporter": "python",
   "pygments_lexer": "ipython3",
   "version": "3.6.3"
  }
 },
 "nbformat": 4,
 "nbformat_minor": 1
}
